{
 "cells": [
  {
   "cell_type": "markdown",
   "metadata": {
    "id": "ttgIy1hmGzZd"
   },
   "source": [
    "## Install dependencies"
   ]
  },
  {
   "cell_type": "code",
   "execution_count": 1,
   "metadata": {
    "id": "PKp4-ff3GmHq"
   },
   "outputs": [],
   "source": [
    "#!pip install git+https://github.com/jthermiz/nma_timely_tigers --quiet\n",
    "from nma_timely_tigers import utils, models\n",
    "import matplotlib.pyplot as plt\n",
    "import seaborn as sns\n",
    "import torch\n",
    "import numpy as np\n",
    "import pandas as pd"
   ]
  },
  {
   "cell_type": "code",
   "execution_count": 2,
   "metadata": {},
   "outputs": [
    {
     "data": {
      "text/plain": [
       "<module 'nma_timely_tigers.utils' from '/home/jhermiz/projects/nma_timely_tigers/nma_timely_tigers/utils.py'>"
      ]
     },
     "execution_count": 2,
     "metadata": {},
     "output_type": "execute_result"
    }
   ],
   "source": [
    "from importlib import reload\n",
    "reload(utils)"
   ]
  },
  {
   "cell_type": "code",
   "execution_count": 3,
   "metadata": {},
   "outputs": [],
   "source": [
    "%matplotlib inline"
   ]
  },
  {
   "cell_type": "markdown",
   "metadata": {
    "id": "0Jk-W6MnhqUZ"
   },
   "source": [
    "## Load dataset"
   ]
  },
  {
   "cell_type": "code",
   "execution_count": 4,
   "metadata": {
    "id": "Jp9Lzg6tZ6cI"
   },
   "outputs": [
    {
     "name": "stdout",
     "output_type": "stream",
     "text": [
      "Loading data from disk\n"
     ]
    }
   ],
   "source": [
    "alldat = utils.load_steinmetz_dataset() # note this takes a bit bc it downloads data"
   ]
  },
  {
   "cell_type": "markdown",
   "metadata": {},
   "source": [
    "## Fixed parameters"
   ]
  },
  {
   "cell_type": "code",
   "execution_count": 9,
   "metadata": {},
   "outputs": [],
   "source": [
    "p = {}\n",
    "#p['areas'] = [\"VISa\", \"VISam\", \"VISl\", \"VISp\", \"VISpm\", \"VISrl\"]\n",
    "p['areas'] = [\"VISp\"]\n",
    "p['start_time'] = 0.5\n",
    "p['end_time'] = 1.2\n",
    "p['optimizer'] = torch.optim.Adam\n",
    "p['epochs'] = 2000\n",
    "p['early_stop_count'] = 200\n",
    "p['exp_name'] = 'all_session_visp'"
   ]
  },
  {
   "cell_type": "markdown",
   "metadata": {},
   "source": [
    "## Sweeping parameter(s)"
   ]
  },
  {
   "cell_type": "code",
   "execution_count": 10,
   "metadata": {},
   "outputs": [],
   "source": [
    "s = {}\n",
    "s['hidden_units'] = [100]"
   ]
  },
  {
   "cell_type": "markdown",
   "metadata": {},
   "source": [
    "## Main loop"
   ]
  },
  {
   "cell_type": "code",
   "execution_count": null,
   "metadata": {
    "scrolled": false
   },
   "outputs": [
    {
     "name": "stdout",
     "output_type": "stream",
     "text": [
      "0\n",
      "using GPU\n",
      "On epoch 0 of 2000\n",
      "Train accuracy: 34.228\n",
      "Validation accuracy: 33.846\n",
      "\n",
      "Early stopped at 430\n",
      "Finished training!\n"
     ]
    },
    {
     "data": {
      "image/png": "[encoded data removed]",
      "text/plain": [
       "<Figure size 432x288 with 1 Axes>"
      ]
     },
     "metadata": {
      "needs_background": "light"
     },
     "output_type": "display_data"
    },
    {
     "name": "stdout",
     "output_type": "stream",
     "text": [
      "using GPU\n",
      "On epoch 0 of 2000\n",
      "Train accuracy: 34.228\n",
      "Validation accuracy: 33.846\n",
      "\n"
     ]
    }
   ],
   "source": [
    "results = []\n",
    "for session, dat in enumerate(alldat[:]):\n",
    "    print(session)\n",
    "    for param in s['hidden_units']:      \n",
    "        for stim in [False, True]:\n",
    "            for shuf in [False, True]:\n",
    "                spks, _ = utils.get_neurons_by_brain_area(dat, areas=p['areas'])                 \n",
    "                \n",
    "                y = dat['response'] + 1 \n",
    "                if stim:\n",
    "                    y = utils.stimulus_labels(dat)\n",
    "                \n",
    "                X = utils.average_trials_across_time(spks, \n",
    "                                                    start_time=p['start_time'],\n",
    "                                                    end_time=p['end_time'],\n",
    "                                                    fs=100).T                \n",
    "                \n",
    "                if shuf:\n",
    "                    X = utils.shuffle_neurons(X, y)\n",
    "\n",
    "                # must have >10 neurons\n",
    "                if X.shape[1] > 10:\n",
    "                    net = models.TwoLayer(D_in=X.shape[1], H=param, D_out=3)\n",
    "                    acc_df, last_epoch = utils.train(net, X, y, \n",
    "                                         epochs=p['epochs'],\n",
    "                                         optimizer=torch.optim.Adam(net.parameters()),\n",
    "                                         early_stop_count=p['early_stop_count'])  \n",
    "                    result = {'session': session, list(s.keys())[0]: param, \n",
    "                              'shuffle': shuf, 'stimulus_decode': stim,\n",
    "                              'accuracy_epoch': acc_df, \n",
    "                              'test_accuracy':acc_df.values[last_epoch,1]}\n",
    "                    results.append(result)\n",
    "                    fig, ax = utils.plot_accuracy(acc_df)\n",
    "                    #plt.savefig('test.png', dpi=300)"
   ]
  },
  {
   "cell_type": "markdown",
   "metadata": {},
   "source": [
    "## Save data to disk"
   ]
  },
  {
   "cell_type": "code",
   "execution_count": null,
   "metadata": {},
   "outputs": [],
   "source": [
    "results_df = pd.DataFrame(results)\n",
    "results_df.head()"
   ]
  },
  {
   "cell_type": "code",
   "execution_count": null,
   "metadata": {},
   "outputs": [],
   "source": [
    "results_df.to_pickle(p['exp_name'] + '_results' + '.pkl')\n",
    "pd.DataFrame(p).loc[0].to_pickle(p['exp_name'] + '_parameters' + '.pkl')\n",
    "!ls"
   ]
  },
  {
   "cell_type": "markdown",
   "metadata": {},
   "source": [
    "## Post hoc analysis"
   ]
  },
  {
   "cell_type": "code",
   "execution_count": null,
   "metadata": {
    "scrolled": true
   },
   "outputs": [],
   "source": [
    "# for idx, row in results_df.iterrows():\n",
    "#     mask = row['accuracy_epoch']['Train'] > 0\n",
    "#     tmp = row['accuracy_epoch'][mask]\n",
    "#     results_df['test_accuracy'][idx] = tmp.values[-1, 1]\n",
    "\n",
    "# results_df['test_accuracy'].head()"
   ]
  },
  {
   "cell_type": "code",
   "execution_count": null,
   "metadata": {},
   "outputs": [],
   "source": [
    "results_df.head()"
   ]
  },
  {
   "cell_type": "code",
   "execution_count": null,
   "metadata": {},
   "outputs": [],
   "source": [
    "for stim in [False, True]:\n",
    "    tmp = results_df[results_df['stimulus_decode'] == stim]\n",
    "    no_shuf = tmp['test_accuracy'][::2]\n",
    "    shuf = tmp['test_accuracy'][1::2]\n",
    "    sns.scatterplot(no_shuf.values, shuf.values)    \n",
    "    plt.xlabel('No shuffle accuracy')\n",
    "    plt.ylabel('Shuffle accuracy')\n",
    "plt.legend(['Behavior', 'Stimulus'])\n",
    "plt.plot([0, 100], [0, 100], 'k--')"
   ]
  },
  {
   "cell_type": "code",
   "execution_count": null,
   "metadata": {},
   "outputs": [],
   "source": [
    "tmp = results_df[results_df['stimulus_decode'] == False]\n",
    "stats = tmp.groupby('shuffle').agg(['describe'])['test_accuracy']\n",
    "stats"
   ]
  },
  {
   "cell_type": "code",
   "execution_count": null,
   "metadata": {
    "scrolled": true
   },
   "outputs": [],
   "source": [
    "tmp = results_df[results_df['stimulus_decode'] == True]\n",
    "stats = tmp.groupby('shuffle').agg(['describe'])['test_accuracy']\n",
    "stats"
   ]
  },
  {
   "cell_type": "code",
   "execution_count": null,
   "metadata": {},
   "outputs": [],
   "source": []
  }
 ],
 "metadata": {
  "colab": {
   "collapsed_sections": [],
   "name": "Template pipeline.ipynb",
   "provenance": []
  },
  "kernelspec": {
   "display_name": "Python 3",
   "language": "python",
   "name": "python3"
  },
  "language_info": {
   "codemirror_mode": {
    "name": "ipython",
    "version": 3
   },
   "file_extension": ".py",
   "mimetype": "text/x-python",
   "name": "python",
   "nbconvert_exporter": "python",
   "pygments_lexer": "ipython3",
   "version": "3.9.6"
  }
 },
 "nbformat": 4,
 "nbformat_minor": 1
}
