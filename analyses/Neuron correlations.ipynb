{
 "cells": [
  {
   "cell_type": "markdown",
   "metadata": {
    "id": "ttgIy1hmGzZd"
   },
   "source": [
    "## Install dependencies"
   ]
  },
  {
   "cell_type": "code",
   "execution_count": 1,
   "metadata": {
    "id": "PKp4-ff3GmHq"
   },
   "outputs": [],
   "source": [
    "#!pip install git+https://github.com/jthermiz/nma_timely_tigers --quiet\n",
    "from nma_timely_tigers import utils, models\n",
    "import matplotlib.pyplot as plt\n",
    "import seaborn as sns\n",
    "import torch\n",
    "import numpy as np\n",
    "import pandas as pd"
   ]
  },
  {
   "cell_type": "code",
   "execution_count": 13,
   "metadata": {},
   "outputs": [
    {
     "data": {
      "text/plain": [
       "<module 'nma_timely_tigers.utils' from '/home/jhermiz/projects/nma_timely_tigers/nma_timely_tigers/utils.py'>"
      ]
     },
     "execution_count": 13,
     "metadata": {},
     "output_type": "execute_result"
    }
   ],
   "source": [
    "from importlib import reload\n",
    "reload(utils)"
   ]
  },
  {
   "cell_type": "code",
   "execution_count": 3,
   "metadata": {},
   "outputs": [],
   "source": [
    "%matplotlib inline"
   ]
  },
  {
   "cell_type": "markdown",
   "metadata": {
    "id": "0Jk-W6MnhqUZ"
   },
   "source": [
    "## Load dataset"
   ]
  },
  {
   "cell_type": "code",
   "execution_count": 4,
   "metadata": {
    "id": "Jp9Lzg6tZ6cI"
   },
   "outputs": [
    {
     "name": "stdout",
     "output_type": "stream",
     "text": [
      "Loading data from disk\n"
     ]
    }
   ],
   "source": [
    "alldat = utils.load_steinmetz_dataset() # note this takes a bit bc it downloads data"
   ]
  },
  {
   "cell_type": "markdown",
   "metadata": {},
   "source": [
    "## Fixed parameters"
   ]
  },
  {
   "cell_type": "code",
   "execution_count": 34,
   "metadata": {},
   "outputs": [],
   "source": [
    "p = {}\n",
    "p['start_time'] = 0.5\n",
    "p['end_time'] = 1.2\n",
    "p['exp_name'] = 'neuron_correlations'"
   ]
  },
  {
   "cell_type": "markdown",
   "metadata": {},
   "source": [
    "## Sweep parameter(s)"
   ]
  },
  {
   "cell_type": "code",
   "execution_count": 9,
   "metadata": {},
   "outputs": [],
   "source": [
    "s = {}\n",
    "s['areas'] = [[\"VISa\", \"VISam\", \"VISl\", \"VISp\", \"VISpm\", \"VISrl\"], # visual cortex\n",
    "                [\"CL\", \"LD\", \"LGd\", \"LH\", \"LP\", \"MD\", \"MG\", \"PO\", \"POL\", \"PT\", \"RT\", \"SPF\", \"TH\", \"VAL\", \"VPL\", \"VPM\"], # thalamus\n",
    "                [\"CA\", \"CA1\", \"CA2\", \"CA3\", \"DG\", \"SUB\", \"POST\"], # hippocampal\n",
    "                [\"ACA\", \"AUD\", \"COA\", \"DP\", \"ILA\", \"MOp\", \"MOs\", \"OLF\", \"ORB\", \"ORBm\", \"PIR\", \"PL\", \"SSp\", \"SSs\", \"RSP\",\"TT\"], # non-visual cortex\n",
    "                [\"APN\", \"IC\", \"MB\", \"MRN\", \"NB\", \"PAG\", \"RN\", \"SCs\", \"SCm\", \"SCig\", \"SCsg\", \"ZI\"], # midbrain\n",
    "                [\"ACB\", \"CP\", \"GPe\", \"LS\", \"LSc\", \"LSr\", \"MS\", \"OT\", \"SNr\", \"SI\"], # basal ganglia \n",
    "                [\"BLA\", \"BMA\", \"EP\", \"EPd\", \"MEA\"] # cortical subplate\n",
    "                ]\n",
    "s['areas'] = [x for y in s['areas'] for x in y] #flatten"
   ]
  },
  {
   "cell_type": "markdown",
   "metadata": {},
   "source": [
    "## Main loop"
   ]
  },
  {
   "cell_type": "code",
   "execution_count": 56,
   "metadata": {
    "scrolled": true
   },
   "outputs": [
    {
     "name": "stdout",
     "output_type": "stream",
     "text": [
      "0\n",
      "1\n",
      "2\n",
      "3\n",
      "4\n",
      "5\n",
      "6\n",
      "7\n",
      "8\n",
      "9\n",
      "10\n",
      "11\n",
      "12\n",
      "13\n",
      "14\n",
      "15\n",
      "16\n",
      "17\n",
      "18\n",
      "19\n",
      "20\n",
      "21\n",
      "22\n",
      "23\n",
      "24\n",
      "25\n",
      "26\n",
      "27\n",
      "28\n",
      "29\n",
      "30\n",
      "31\n",
      "32\n",
      "33\n",
      "34\n",
      "35\n",
      "36\n",
      "37\n",
      "38\n"
     ]
    }
   ],
   "source": [
    "results = []\n",
    "for session, dat in enumerate(alldat[:]):\n",
    "    print(session)\n",
    "    for area in s['areas']:\n",
    "        for correct in [False, True]:\n",
    "            spks, _ = utils.get_neurons_by_brain_area(dat, areas=area)   \n",
    "            y = utils.animal_correctness_labels(dat)\n",
    "            X = utils.average_trials_across_time(spks, \n",
    "                                                start_time=p['start_time'],\n",
    "                                                end_time=p['end_time'],\n",
    "                                                fs=100).T                \n",
    "            if correct:\n",
    "                X = X[y==1]\n",
    "            else:\n",
    "                X = X[y==0]\n",
    "            \n",
    "            # make X well conditioned\n",
    "            X = X + 1e-4*np.random.randn(*X.shape)\n",
    "            \n",
    "            # have at least 11 trials and 2 neurons\n",
    "            if (X.shape[0] > 10) and (X.shape[1] > 1):\n",
    "                corrs = utils.calc_correlations(X)\n",
    "                corr_mean, corr_mean_abs = np.mean(corrs), np.mean(np.abs(corrs))\n",
    "                corr_median = np.median(corrs)\n",
    "                result = {'session': session, list(s.keys())[0]: area, \n",
    "                          'correct': correct, 'corr_values': corrs, \n",
    "                          'corr_mean':corr_mean, 'corr_mean_abs':corr_mean_abs, \n",
    "                          'corr_median': corr_median}\n",
    "                results.append(result)\n",
    "                #plt.savefig('test.png', dpi=300)"
   ]
  },
  {
   "cell_type": "markdown",
   "metadata": {},
   "source": [
    "## Save data to disk"
   ]
  },
  {
   "cell_type": "code",
   "execution_count": 57,
   "metadata": {},
   "outputs": [
    {
     "data": {
      "text/html": [
       "<div>\n",
       "<style scoped>\n",
       "    .dataframe tbody tr th:only-of-type {\n",
       "        vertical-align: middle;\n",
       "    }\n",
       "\n",
       "    .dataframe tbody tr th {\n",
       "        vertical-align: top;\n",
       "    }\n",
       "\n",
       "    .dataframe thead th {\n",
       "        text-align: right;\n",
       "    }\n",
       "</style>\n",
       "<table border=\"1\" class=\"dataframe\">\n",
       "  <thead>\n",
       "    <tr style=\"text-align: right;\">\n",
       "      <th></th>\n",
       "      <th>session</th>\n",
       "      <th>areas</th>\n",
       "      <th>correct</th>\n",
       "      <th>corr_values</th>\n",
       "      <th>corr_mean</th>\n",
       "      <th>corr_mean_abs</th>\n",
       "      <th>corr_median</th>\n",
       "    </tr>\n",
       "  </thead>\n",
       "  <tbody>\n",
       "    <tr>\n",
       "      <th>0</th>\n",
       "      <td>0</td>\n",
       "      <td>VISp</td>\n",
       "      <td>False</td>\n",
       "      <td>[[0.7871057676186983], [0.9999999999999999], [...</td>\n",
       "      <td>0.652264</td>\n",
       "      <td>0.652264</td>\n",
       "      <td>0.664877</td>\n",
       "    </tr>\n",
       "    <tr>\n",
       "      <th>1</th>\n",
       "      <td>0</td>\n",
       "      <td>VISp</td>\n",
       "      <td>True</td>\n",
       "      <td>[[0.8182475940480505], [0.9265886219551782], [...</td>\n",
       "      <td>0.680473</td>\n",
       "      <td>0.680473</td>\n",
       "      <td>0.690430</td>\n",
       "    </tr>\n",
       "    <tr>\n",
       "      <th>2</th>\n",
       "      <td>0</td>\n",
       "      <td>VISpm</td>\n",
       "      <td>False</td>\n",
       "      <td>[[0.9999999999999999], [0.7873543812450902], [...</td>\n",
       "      <td>0.651779</td>\n",
       "      <td>0.651779</td>\n",
       "      <td>0.664733</td>\n",
       "    </tr>\n",
       "    <tr>\n",
       "      <th>3</th>\n",
       "      <td>0</td>\n",
       "      <td>VISpm</td>\n",
       "      <td>True</td>\n",
       "      <td>[[0.8182589153275757], [0.926584702818917], [0...</td>\n",
       "      <td>0.680585</td>\n",
       "      <td>0.680585</td>\n",
       "      <td>0.690515</td>\n",
       "    </tr>\n",
       "    <tr>\n",
       "      <th>4</th>\n",
       "      <td>0</td>\n",
       "      <td>CA3</td>\n",
       "      <td>False</td>\n",
       "      <td>[[0.8558072330039217], [0.7490062593740756], [...</td>\n",
       "      <td>0.619433</td>\n",
       "      <td>0.619433</td>\n",
       "      <td>0.642737</td>\n",
       "    </tr>\n",
       "  </tbody>\n",
       "</table>\n",
       "</div>"
      ],
      "text/plain": [
       "   session  areas  correct                                        corr_values  \\\n",
       "0        0   VISp    False  [[0.7871057676186983], [0.9999999999999999], [...   \n",
       "1        0   VISp     True  [[0.8182475940480505], [0.9265886219551782], [...   \n",
       "2        0  VISpm    False  [[0.9999999999999999], [0.7873543812450902], [...   \n",
       "3        0  VISpm     True  [[0.8182589153275757], [0.926584702818917], [0...   \n",
       "4        0    CA3    False  [[0.8558072330039217], [0.7490062593740756], [...   \n",
       "\n",
       "   corr_mean  corr_mean_abs  corr_median  \n",
       "0   0.652264       0.652264     0.664877  \n",
       "1   0.680473       0.680473     0.690430  \n",
       "2   0.651779       0.651779     0.664733  \n",
       "3   0.680585       0.680585     0.690515  \n",
       "4   0.619433       0.619433     0.642737  "
      ]
     },
     "execution_count": 57,
     "metadata": {},
     "output_type": "execute_result"
    }
   ],
   "source": [
    "results_df = pd.DataFrame(results)\n",
    "results_df.head()"
   ]
  },
  {
   "cell_type": "code",
   "execution_count": 58,
   "metadata": {},
   "outputs": [
    {
     "name": "stdout",
     "output_type": "stream",
     "text": [
      " all_session_fixed_shuf_parameters.pkl\t neuron_correlations_results.pkl\r\n",
      " all_session_fixed_shuf_results.pkl\t steinmetz_part0.npz\r\n",
      " all_session_parameters.pkl\t\t steinmetz_part1.npz\r\n",
      " all_session_results.pkl\t\t steinmetz_part2.npz\r\n",
      " all_session_visp_parameters.pkl\t'Sweep model.ipynb'\r\n",
      " all_session_visp_results.pkl\t\t Template_pipeline.ipynb\r\n",
      "'Neuron correlations.ipynb'\t\t Untitled.ipynb\r\n",
      " neuron_correlations_parameters.pkl\r\n"
     ]
    }
   ],
   "source": [
    "results_df.to_pickle(p['exp_name'] + '_results' + '.pkl')\n",
    "pd.DataFrame(p, index=[0, 1, 2]).loc[0].to_pickle(p['exp_name'] + '_parameters' + '.pkl')\n",
    "!ls"
   ]
  },
  {
   "cell_type": "markdown",
   "metadata": {},
   "source": [
    "## Post hoc analysis"
   ]
  },
  {
   "cell_type": "code",
   "execution_count": 59,
   "metadata": {},
   "outputs": [
    {
     "data": {
      "text/html": [
       "<div>\n",
       "<style scoped>\n",
       "    .dataframe tbody tr th:only-of-type {\n",
       "        vertical-align: middle;\n",
       "    }\n",
       "\n",
       "    .dataframe tbody tr th {\n",
       "        vertical-align: top;\n",
       "    }\n",
       "\n",
       "    .dataframe thead th {\n",
       "        text-align: right;\n",
       "    }\n",
       "</style>\n",
       "<table border=\"1\" class=\"dataframe\">\n",
       "  <thead>\n",
       "    <tr style=\"text-align: right;\">\n",
       "      <th></th>\n",
       "      <th>session</th>\n",
       "      <th>areas</th>\n",
       "      <th>correct</th>\n",
       "      <th>corr_values</th>\n",
       "      <th>corr_mean</th>\n",
       "      <th>corr_mean_abs</th>\n",
       "      <th>corr_median</th>\n",
       "    </tr>\n",
       "  </thead>\n",
       "  <tbody>\n",
       "    <tr>\n",
       "      <th>0</th>\n",
       "      <td>0</td>\n",
       "      <td>VISp</td>\n",
       "      <td>False</td>\n",
       "      <td>[[0.7871057676186983], [0.9999999999999999], [...</td>\n",
       "      <td>0.652264</td>\n",
       "      <td>0.652264</td>\n",
       "      <td>0.664877</td>\n",
       "    </tr>\n",
       "    <tr>\n",
       "      <th>1</th>\n",
       "      <td>0</td>\n",
       "      <td>VISp</td>\n",
       "      <td>True</td>\n",
       "      <td>[[0.8182475940480505], [0.9265886219551782], [...</td>\n",
       "      <td>0.680473</td>\n",
       "      <td>0.680473</td>\n",
       "      <td>0.690430</td>\n",
       "    </tr>\n",
       "    <tr>\n",
       "      <th>2</th>\n",
       "      <td>0</td>\n",
       "      <td>VISpm</td>\n",
       "      <td>False</td>\n",
       "      <td>[[0.9999999999999999], [0.7873543812450902], [...</td>\n",
       "      <td>0.651779</td>\n",
       "      <td>0.651779</td>\n",
       "      <td>0.664733</td>\n",
       "    </tr>\n",
       "    <tr>\n",
       "      <th>3</th>\n",
       "      <td>0</td>\n",
       "      <td>VISpm</td>\n",
       "      <td>True</td>\n",
       "      <td>[[0.8182589153275757], [0.926584702818917], [0...</td>\n",
       "      <td>0.680585</td>\n",
       "      <td>0.680585</td>\n",
       "      <td>0.690515</td>\n",
       "    </tr>\n",
       "    <tr>\n",
       "      <th>4</th>\n",
       "      <td>0</td>\n",
       "      <td>CA3</td>\n",
       "      <td>False</td>\n",
       "      <td>[[0.8558072330039217], [0.7490062593740756], [...</td>\n",
       "      <td>0.619433</td>\n",
       "      <td>0.619433</td>\n",
       "      <td>0.642737</td>\n",
       "    </tr>\n",
       "  </tbody>\n",
       "</table>\n",
       "</div>"
      ],
      "text/plain": [
       "   session  areas  correct                                        corr_values  \\\n",
       "0        0   VISp    False  [[0.7871057676186983], [0.9999999999999999], [...   \n",
       "1        0   VISp     True  [[0.8182475940480505], [0.9265886219551782], [...   \n",
       "2        0  VISpm    False  [[0.9999999999999999], [0.7873543812450902], [...   \n",
       "3        0  VISpm     True  [[0.8182589153275757], [0.926584702818917], [0...   \n",
       "4        0    CA3    False  [[0.8558072330039217], [0.7490062593740756], [...   \n",
       "\n",
       "   corr_mean  corr_mean_abs  corr_median  \n",
       "0   0.652264       0.652264     0.664877  \n",
       "1   0.680473       0.680473     0.690430  \n",
       "2   0.651779       0.651779     0.664733  \n",
       "3   0.680585       0.680585     0.690515  \n",
       "4   0.619433       0.619433     0.642737  "
      ]
     },
     "execution_count": 59,
     "metadata": {},
     "output_type": "execute_result"
    }
   ],
   "source": [
    "results_df.head()"
   ]
  },
  {
   "cell_type": "code",
   "execution_count": 62,
   "metadata": {},
   "outputs": [
    {
     "name": "stderr",
     "output_type": "stream",
     "text": [
      "/home/jhermiz/anaconda3/envs/nma/lib/python3.9/site-packages/seaborn/_decorators.py:36: FutureWarning: Pass the following variables as keyword args: x, y. From version 0.12, the only valid positional argument will be `data`, and passing other arguments without an explicit keyword will result in an error or misinterpretation.\n",
      "  warnings.warn(\n",
      "/home/jhermiz/anaconda3/envs/nma/lib/python3.9/site-packages/seaborn/_decorators.py:36: FutureWarning: Pass the following variables as keyword args: x, y. From version 0.12, the only valid positional argument will be `data`, and passing other arguments without an explicit keyword will result in an error or misinterpretation.\n",
      "  warnings.warn(\n"
     ]
    },
    {
     "data": {
      "text/plain": [
       "[<matplotlib.lines.Line2D at 0x7fa0437cf370>]"
      ]
     },
     "execution_count": 62,
     "metadata": {},
     "output_type": "execute_result"
    },
    {
     "data": {
      "image/png": "[encoded data removed]",
      "text/plain": [
       "<Figure size 432x288 with 1 Axes>"
      ]
     },
     "metadata": {
      "needs_background": "light"
     },
     "output_type": "display_data"
    }
   ],
   "source": [
    "for correct in [False, True]:\n",
    "    tmp = results_df[results_df['areas'] == 'VISp']\n",
    "    tmp = tmp[tmp['correct'] == correct]\n",
    "    no_shuf = tmp['corr_median'][::2]\n",
    "    shuf = tmp['corr_median'][1::2]\n",
    "    sns.scatterplot(no_shuf.values, shuf.values)    \n",
    "    #plt.xlabel('No shuffle accuracy')\n",
    "    #plt.ylabel('Shuffle accuracy')\n",
    "#plt.legend(['Behavior', 'Stimulus'])\n",
    "plt.plot([0, 1], [0, 1], 'k--')"
   ]
  },
  {
   "cell_type": "code",
   "execution_count": 63,
   "metadata": {},
   "outputs": [
    {
     "data": {
      "text/html": [
       "<div>\n",
       "<style scoped>\n",
       "    .dataframe tbody tr th:only-of-type {\n",
       "        vertical-align: middle;\n",
       "    }\n",
       "\n",
       "    .dataframe tbody tr th {\n",
       "        vertical-align: top;\n",
       "    }\n",
       "\n",
       "    .dataframe thead tr th {\n",
       "        text-align: left;\n",
       "    }\n",
       "\n",
       "    .dataframe thead tr:last-of-type th {\n",
       "        text-align: right;\n",
       "    }\n",
       "</style>\n",
       "<table border=\"1\" class=\"dataframe\">\n",
       "  <thead>\n",
       "    <tr>\n",
       "      <th></th>\n",
       "      <th colspan=\"8\" halign=\"left\">describe</th>\n",
       "    </tr>\n",
       "    <tr>\n",
       "      <th></th>\n",
       "      <th>count</th>\n",
       "      <th>mean</th>\n",
       "      <th>std</th>\n",
       "      <th>min</th>\n",
       "      <th>25%</th>\n",
       "      <th>50%</th>\n",
       "      <th>75%</th>\n",
       "      <th>max</th>\n",
       "    </tr>\n",
       "    <tr>\n",
       "      <th>correct</th>\n",
       "      <th></th>\n",
       "      <th></th>\n",
       "      <th></th>\n",
       "      <th></th>\n",
       "      <th></th>\n",
       "      <th></th>\n",
       "      <th></th>\n",
       "      <th></th>\n",
       "    </tr>\n",
       "  </thead>\n",
       "  <tbody>\n",
       "    <tr>\n",
       "      <th>False</th>\n",
       "      <td>12.0</td>\n",
       "      <td>0.529564</td>\n",
       "      <td>0.139595</td>\n",
       "      <td>0.252354</td>\n",
       "      <td>0.486583</td>\n",
       "      <td>0.538932</td>\n",
       "      <td>0.612499</td>\n",
       "      <td>0.731251</td>\n",
       "    </tr>\n",
       "    <tr>\n",
       "      <th>True</th>\n",
       "      <td>12.0</td>\n",
       "      <td>0.551221</td>\n",
       "      <td>0.129260</td>\n",
       "      <td>0.282695</td>\n",
       "      <td>0.519090</td>\n",
       "      <td>0.550088</td>\n",
       "      <td>0.637908</td>\n",
       "      <td>0.726570</td>\n",
       "    </tr>\n",
       "  </tbody>\n",
       "</table>\n",
       "</div>"
      ],
      "text/plain": [
       "        describe                                                              \\\n",
       "           count      mean       std       min       25%       50%       75%   \n",
       "correct                                                                        \n",
       "False       12.0  0.529564  0.139595  0.252354  0.486583  0.538932  0.612499   \n",
       "True        12.0  0.551221  0.129260  0.282695  0.519090  0.550088  0.637908   \n",
       "\n",
       "                   \n",
       "              max  \n",
       "correct            \n",
       "False    0.731251  \n",
       "True     0.726570  "
      ]
     },
     "execution_count": 63,
     "metadata": {},
     "output_type": "execute_result"
    }
   ],
   "source": [
    "tmp = results_df[results_df['areas'] == 'VISp']\n",
    "stats = tmp.groupby('correct').agg(['describe'])['corr_median']\n",
    "stats"
   ]
  },
  {
   "cell_type": "code",
   "execution_count": 55,
   "metadata": {},
   "outputs": [
    {
     "data": {
      "text/html": [
       "<div>\n",
       "<style scoped>\n",
       "    .dataframe tbody tr th:only-of-type {\n",
       "        vertical-align: middle;\n",
       "    }\n",
       "\n",
       "    .dataframe tbody tr th {\n",
       "        vertical-align: top;\n",
       "    }\n",
       "\n",
       "    .dataframe thead tr th {\n",
       "        text-align: left;\n",
       "    }\n",
       "\n",
       "    .dataframe thead tr:last-of-type th {\n",
       "        text-align: right;\n",
       "    }\n",
       "</style>\n",
       "<table border=\"1\" class=\"dataframe\">\n",
       "  <thead>\n",
       "    <tr>\n",
       "      <th></th>\n",
       "      <th colspan=\"8\" halign=\"left\">describe</th>\n",
       "    </tr>\n",
       "    <tr>\n",
       "      <th></th>\n",
       "      <th>count</th>\n",
       "      <th>mean</th>\n",
       "      <th>std</th>\n",
       "      <th>min</th>\n",
       "      <th>25%</th>\n",
       "      <th>50%</th>\n",
       "      <th>75%</th>\n",
       "      <th>max</th>\n",
       "    </tr>\n",
       "    <tr>\n",
       "      <th>correct</th>\n",
       "      <th></th>\n",
       "      <th></th>\n",
       "      <th></th>\n",
       "      <th></th>\n",
       "      <th></th>\n",
       "      <th></th>\n",
       "      <th></th>\n",
       "      <th></th>\n",
       "    </tr>\n",
       "  </thead>\n",
       "  <tbody>\n",
       "    <tr>\n",
       "      <th>False</th>\n",
       "      <td>12.0</td>\n",
       "      <td>0.523483</td>\n",
       "      <td>0.130678</td>\n",
       "      <td>0.270022</td>\n",
       "      <td>0.469029</td>\n",
       "      <td>0.532078</td>\n",
       "      <td>0.605350</td>\n",
       "      <td>0.722204</td>\n",
       "    </tr>\n",
       "    <tr>\n",
       "      <th>True</th>\n",
       "      <td>12.0</td>\n",
       "      <td>0.543288</td>\n",
       "      <td>0.118526</td>\n",
       "      <td>0.292097</td>\n",
       "      <td>0.505347</td>\n",
       "      <td>0.545552</td>\n",
       "      <td>0.609653</td>\n",
       "      <td>0.715078</td>\n",
       "    </tr>\n",
       "  </tbody>\n",
       "</table>\n",
       "</div>"
      ],
      "text/plain": [
       "        describe                                                              \\\n",
       "           count      mean       std       min       25%       50%       75%   \n",
       "correct                                                                        \n",
       "False       12.0  0.523483  0.130678  0.270022  0.469029  0.532078  0.605350   \n",
       "True        12.0  0.543288  0.118526  0.292097  0.505347  0.545552  0.609653   \n",
       "\n",
       "                   \n",
       "              max  \n",
       "correct            \n",
       "False    0.722204  \n",
       "True     0.715078  "
      ]
     },
     "execution_count": 55,
     "metadata": {},
     "output_type": "execute_result"
    }
   ],
   "source": [
    "tmp = results_df[results_df['areas'] == 'VISp']\n",
    "stats = tmp.groupby('correct').agg(['describe'])['corr_mean_abs']\n",
    "stats"
   ]
  },
  {
   "cell_type": "code",
   "execution_count": null,
   "metadata": {},
   "outputs": [],
   "source": []
  }
 ],
 "metadata": {
  "colab": {
   "collapsed_sections": [],
   "name": "Template pipeline.ipynb",
   "provenance": []
  },
  "kernelspec": {
   "display_name": "Python 3",
   "language": "python",
   "name": "python3"
  },
  "language_info": {
   "codemirror_mode": {
    "name": "ipython",
    "version": 3
   },
   "file_extension": ".py",
   "mimetype": "text/x-python",
   "name": "python",
   "nbconvert_exporter": "python",
   "pygments_lexer": "ipython3",
   "version": "3.9.6"
  }
 },
 "nbformat": 4,
 "nbformat_minor": 1
}
